{
 "cells": [
  {
   "cell_type": "code",
   "execution_count": 6,
   "metadata": {},
   "outputs": [
    {
     "name": "stdout",
     "output_type": "stream",
     "text": [
      "         State  Case_Number  Persons       County          City     Month  \\\n",
      "0      Alabama        10001      3.0     LEE (81)       OPELIKA  February   \n",
      "1      Alabama        10001      3.0     LEE (81)       OPELIKA  February   \n",
      "2      Alabama        10002      2.0  ETOWAH (55)       GADSDEN   January   \n",
      "3      Alabama        10002      2.0  ETOWAH (55)       GADSDEN   January   \n",
      "4      Alabama        10004      1.0  ETOWAH (55)  RAINBOW CITY   January   \n",
      "...        ...          ...      ...          ...           ...       ...   \n",
      "50165      NaN       560118      NaN          NaN           NaN       NaN   \n",
      "50166      NaN       560119      NaN          NaN           NaN       NaN   \n",
      "50167      NaN       560120      NaN          NaN           NaN       NaN   \n",
      "50168      NaN       560121      NaN          NaN           NaN       NaN   \n",
      "50169      NaN       560121      NaN          NaN           NaN       NaN   \n",
      "\n",
      "             Day       Route Rural/Urban   Latitude  ...  \\\n",
      "0       Thursday  Interstate       Urban  32.666222  ...   \n",
      "1       Thursday  Interstate       Urban  32.666222  ...   \n",
      "2      Wednesday  Interstate       Urban  33.997828  ...   \n",
      "3      Wednesday  Interstate       Urban  33.997828  ...   \n",
      "4        Tuesday  Interstate       Rural  33.956472  ...   \n",
      "...          ...         ...         ...        ...  ...   \n",
      "50165        NaN         NaN         NaN        NaN  ...   \n",
      "50166        NaN         NaN         NaN        NaN  ...   \n",
      "50167        NaN         NaN         NaN        NaN  ...   \n",
      "50168        NaN         NaN         NaN        NaN  ...   \n",
      "50169        NaN         NaN         NaN        NaN  ...   \n",
      "\n",
      "                                     Manner of Collision    Light Conditions  \\\n",
      "0                                          Front-to-Rear            Daylight   \n",
      "1                                          Front-to-Rear            Daylight   \n",
      "2                                          Front-to-Rear  Dark - Not Lighted   \n",
      "3                                          Front-to-Rear  Dark - Not Lighted   \n",
      "4      The First Harmful Event was Not a Collision wi...  Dark - Not Lighted   \n",
      "...                                                  ...                 ...   \n",
      "50165                                                NaN                 NaN   \n",
      "50166                                                NaN                 NaN   \n",
      "50167                                                NaN                 NaN   \n",
      "50168                                                NaN                 NaN   \n",
      "50169                                                NaN                 NaN   \n",
      "\n",
      "      Weather    Vehicle_Model  \\\n",
      "0       Clear           Toyota   \n",
      "1       Clear     Freightliner   \n",
      "2        Rain              BMW   \n",
      "3        Rain        Chevrolet   \n",
      "4       Clear        Peterbilt   \n",
      "...       ...              ...   \n",
      "50165     NaN        Peterbilt   \n",
      "50166     NaN  Harley-Davidson   \n",
      "50167     NaN          Hyundai   \n",
      "50168     NaN            Dodge   \n",
      "50169     NaN            Dodge   \n",
      "\n",
      "                                         Vehicle_Model.1   AGE     Sex  \\\n",
      "0                                           Toyota Camry  34.0  Female   \n",
      "1                        Freightliner Medium/Heavy - CBE  59.0    Male   \n",
      "2                                           BMW 3-series  42.0  Female   \n",
      "3      Chevrolet TrailBlazer (2003 on; for 2002 model...  54.0  Female   \n",
      "4                           Peterbilt Medium/Heavy - CBE  41.0    Male   \n",
      "...                                                  ...   ...     ...   \n",
      "50165                       Peterbilt Medium/Heavy - CBE  56.0    Male   \n",
      "50166                   Harley-Davidson 750cc or greater  52.0    Male   \n",
      "50167                                   Hyundai Santa Fe  31.0    Male   \n",
      "50168  Dodge Dart (2013 on. See model 001 for 1960-19...  42.0    Male   \n",
      "50169                                   Dodge Ram Pickup  30.0    Male   \n",
      "\n",
      "        DOA_Status                          Passenger_Type     Age_Group  \n",
      "0      No Fatality  Driver of a Motor Vehicle In-Transport  (33.0, 46.0]  \n",
      "1      No Fatality  Driver of a Motor Vehicle In-Transport  (46.0, 60.0]  \n",
      "2            Fatal  Driver of a Motor Vehicle In-Transport  (33.0, 46.0]  \n",
      "3      No Fatality  Driver of a Motor Vehicle In-Transport  (46.0, 60.0]  \n",
      "4      No Fatality  Driver of a Motor Vehicle In-Transport  (33.0, 46.0]  \n",
      "...            ...                                     ...           ...  \n",
      "50165  No Fatality  Driver of a Motor Vehicle In-Transport  (46.0, 60.0]  \n",
      "50166  No Fatality  Driver of a Motor Vehicle In-Transport  (46.0, 60.0]  \n",
      "50167        Fatal  Driver of a Motor Vehicle In-Transport  (19.0, 33.0]  \n",
      "50168        Fatal  Driver of a Motor Vehicle In-Transport  (33.0, 46.0]  \n",
      "50169  No Fatality  Driver of a Motor Vehicle In-Transport  (19.0, 33.0]  \n",
      "\n",
      "[50170 rows x 22 columns]\n"
     ]
    }
   ],
   "source": [
    "# importing libraries\n",
    "import pandas as pd\n",
    "import glob as glob\n",
    "\n",
    "# accidents.join(df2, how='outer')\n",
    "\n",
    "# pd.concat([pd.read_csv(f).set_index('Case_Number') for f in glob.glob('Output/*.csv')],\n",
    "#             axis=1).reset_index(drop=True)\n",
    "\n",
    "# files = glob.glob('/Users/thomaslawless/Desktop/Ga Tech/Homework/Crash-Dummies-2.0/Output/*.csv')\n",
    "# all_data = pd.merge(files, how='left')\n",
    "\n",
    "# reading csv files\n",
    "accidents = pd.read_csv('Output/accident_final.csv', encoding='cp1252')\n",
    "people = pd.read_csv('Output/person_final.csv', encoding='cp1252')\n",
    "vehicle = pd.read_csv('Output/vehicles_final.csv', encoding='cp1252')\n",
    "  \n",
    "# using merge function by setting how='outer'\n",
    "some_data = pd.merge(accidents, people,\n",
    "                    how='outer',\n",
    "                    on='Case_Number')\n",
    "  \n",
    "# displaying result\n",
    "print(some_data)\n"
   ]
  },
  {
   "cell_type": "code",
   "execution_count": 7,
   "metadata": {},
   "outputs": [
    {
     "name": "stdout",
     "output_type": "stream",
     "text": [
      "<class 'pandas.core.frame.DataFrame'>\n",
      "Int64Index: 54360 entries, 0 to 54359\n",
      "Data columns (total 28 columns):\n",
      " #   Column               Non-Null Count  Dtype  \n",
      "---  ------               --------------  -----  \n",
      " 0   State                21641 non-null  object \n",
      " 1   Case_Number          54360 non-null  int64  \n",
      " 2   Persons              21641 non-null  float64\n",
      " 3   County               21641 non-null  object \n",
      " 4   City                 21641 non-null  object \n",
      " 5   Month                21641 non-null  object \n",
      " 6   Day                  21641 non-null  object \n",
      " 7   Route                21641 non-null  object \n",
      " 8   Rural/Urban          21641 non-null  object \n",
      " 9   Latitude             21641 non-null  float64\n",
      " 10  Longitude            21641 non-null  float64\n",
      " 11  First Harmful Event  21641 non-null  object \n",
      " 12  Manner of Collision  21641 non-null  object \n",
      " 13  Light Conditions     21641 non-null  object \n",
      " 14  Weather              21641 non-null  object \n",
      " 15  Vehicle_Model        53854 non-null  object \n",
      " 16  Vehicle_Model.1      53854 non-null  object \n",
      " 17  AGE                  53854 non-null  float64\n",
      " 18  Sex                  53854 non-null  object \n",
      " 19  DOA_Status           53854 non-null  object \n",
      " 20  Passenger_Type       53854 non-null  object \n",
      " 21  Age_Group            53854 non-null  object \n",
      " 22  Vehicle No.          35160 non-null  float64\n",
      " 23  Body Type            35160 non-null  object \n",
      " 24  Speed Exceed         35160 non-null  object \n",
      " 25  Driver Safety        35160 non-null  object \n",
      " 26  Pedestrian Crash     35160 non-null  object \n",
      " 27  Hit/Run              35160 non-null  object \n",
      "dtypes: float64(5), int64(1), object(22)\n",
      "memory usage: 12.0+ MB\n"
     ]
    }
   ],
   "source": [
    "full_data = pd.merge(some_data, vehicle,\n",
    "                        how='left',\n",
    "                        on='Case_Number')\n",
    "\n",
    "full_data.head(10)\n",
    "full_data.info()"
   ]
  },
  {
   "cell_type": "code",
   "execution_count": 8,
   "metadata": {},
   "outputs": [
    {
     "name": "stdout",
     "output_type": "stream",
     "text": [
      "<class 'pandas.core.frame.DataFrame'>\n",
      "Int64Index: 54360 entries, 0 to 54359\n",
      "Data columns (total 28 columns):\n",
      " #   Column               Non-Null Count  Dtype  \n",
      "---  ------               --------------  -----  \n",
      " 0   State                21641 non-null  object \n",
      " 1   Case_Number          54360 non-null  int64  \n",
      " 2   Persons              21641 non-null  float64\n",
      " 3   County               21641 non-null  object \n",
      " 4   City                 21641 non-null  object \n",
      " 5   Month                21641 non-null  object \n",
      " 6   Day                  21641 non-null  object \n",
      " 7   Route                21641 non-null  object \n",
      " 8   Rural/Urban          21641 non-null  object \n",
      " 9   Latitude             21641 non-null  float64\n",
      " 10  Longitude            21641 non-null  float64\n",
      " 11  First Harmful Event  21641 non-null  object \n",
      " 12  Manner of Collision  21641 non-null  object \n",
      " 13  Light Conditions     21641 non-null  object \n",
      " 14  Weather              21641 non-null  object \n",
      " 15  Vehicle_Model        53854 non-null  object \n",
      " 16  Vehicle_Model.1      53854 non-null  object \n",
      " 17  AGE                  53854 non-null  float64\n",
      " 18  Sex                  53854 non-null  object \n",
      " 19  DOA_Status           53854 non-null  object \n",
      " 20  Passenger_Type       53854 non-null  object \n",
      " 21  Age_Group            53854 non-null  object \n",
      " 22  Vehicle No.          35160 non-null  float64\n",
      " 23  Body Type            35160 non-null  object \n",
      " 24  Speed Exceed         35160 non-null  object \n",
      " 25  Driver Safety        35160 non-null  object \n",
      " 26  Pedestrian Crash     35160 non-null  object \n",
      " 27  Hit/Run              35160 non-null  object \n",
      "dtypes: float64(5), int64(1), object(22)\n",
      "memory usage: 12.0+ MB\n"
     ]
    }
   ],
   "source": [
    "clean_df = full_data.dropna(axis=1, how='all', inplace=False)\n",
    "clean_df.info()"
   ]
  },
  {
   "cell_type": "code",
   "execution_count": 9,
   "metadata": {},
   "outputs": [
    {
     "data": {
      "text/plain": [
       "array(['No Fatality', 'Fatal', nan], dtype=object)"
      ]
     },
     "execution_count": 9,
     "metadata": {},
     "output_type": "execute_result"
    }
   ],
   "source": [
    "clean_df[\"DOA_Status\"].unique()"
   ]
  },
  {
   "cell_type": "code",
   "execution_count": 10,
   "metadata": {},
   "outputs": [],
   "source": [
    "# Writing Accidents final dataframe to a csv\n",
    "clean_df.to_csv(r\"Output/full_data_final.csv\", index=False, header=True)"
   ]
  }
 ],
 "metadata": {
  "interpreter": {
   "hash": "40d3a090f54c6569ab1632332b64b2c03c39dcf918b08424e98f38b5ae0af88f"
  },
  "kernelspec": {
   "display_name": "Python 3.9.7 64-bit ('base': conda)",
   "language": "python",
   "name": "python3"
  },
  "language_info": {
   "codemirror_mode": {
    "name": "ipython",
    "version": 3
   },
   "file_extension": ".py",
   "mimetype": "text/x-python",
   "name": "python",
   "nbconvert_exporter": "python",
   "pygments_lexer": "ipython3",
   "version": "3.9.7"
  },
  "orig_nbformat": 4
 },
 "nbformat": 4,
 "nbformat_minor": 2
}
